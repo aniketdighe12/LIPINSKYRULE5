{
  "cells": [
    {
      "cell_type": "markdown",
      "source": [
        "#**Lipinski's rule of five**\n",
        "\n",
        "Lipinski’s Rule of Five evaluates druglikeness and predicts oral drug activity.\n",
        "For an orally active drug:\n",
        "\n",
        "No more than 5 hydrogen bond donors.\n",
        "\n",
        "No more than 10 hydrogen bond acceptors (nitrogen or oxygen atoms).\n",
        "\n",
        "Molecular mass less than 500 daltons.\n",
        "\n",
        "Calculated octanol-water partition coefficient (Clog P) not exceeding 5."
      ],
      "metadata": {
        "id": "bvPHci6miFKe"
      },
      "id": "bvPHci6miFKe"
    },
    {
      "cell_type": "markdown",
      "source": [
        "#*Installing* *Packages*"
      ],
      "metadata": {
        "id": "dt9Jk1zZiQBE"
      },
      "id": "dt9Jk1zZiQBE"
    },
    {
      "cell_type": "code",
      "source": [
        "!pip install rdkit\n",
        "!pip install pubchempy"
      ],
      "metadata": {
        "colab": {
          "base_uri": "https://localhost:8080/"
        },
        "id": "RwPr0rtEPbhG",
        "outputId": "6158dbc7-6989-4579-cee2-d63fcd61382f"
      },
      "id": "RwPr0rtEPbhG",
      "execution_count": null,
      "outputs": [
        {
          "output_type": "stream",
          "name": "stdout",
          "text": [
            "Requirement already satisfied: rdkit in /usr/local/lib/python3.10/dist-packages (2023.9.4)\n",
            "Requirement already satisfied: numpy in /usr/local/lib/python3.10/dist-packages (from rdkit) (1.23.5)\n",
            "Requirement already satisfied: Pillow in /usr/local/lib/python3.10/dist-packages (from rdkit) (9.4.0)\n",
            "Requirement already satisfied: pubchempy in /usr/local/lib/python3.10/dist-packages (1.0.4)\n"
          ]
        }
      ]
    },
    {
      "cell_type": "markdown",
      "source": [
        "#*Importing Packages*"
      ],
      "metadata": {
        "id": "0r9MOG4NiVGR"
      },
      "id": "0r9MOG4NiVGR"
    },
    {
      "cell_type": "code",
      "execution_count": null,
      "id": "6f80d37a",
      "metadata": {
        "id": "6f80d37a"
      },
      "outputs": [],
      "source": [
        "import pandas as pd\n",
        "import numpy as np\n",
        "from sklearn.linear_model import LinearRegression\n",
        "from sklearn.metrics import mean_squared_error\n",
        "from rdkit.Chem import Draw\n",
        "from rdkit.Chem import Descriptors\n",
        "from rdkit.Chem import MolSurf\n",
        "from rdkit import Chem"
      ]
    },
    {
      "cell_type": "markdown",
      "source": [
        "#Creating data frame and importing *structure*"
      ],
      "metadata": {
        "id": "2u4L3oaTia0B"
      },
      "id": "2u4L3oaTia0B"
    },
    {
      "cell_type": "code",
      "execution_count": null,
      "id": "20b64dd0",
      "metadata": {
        "id": "20b64dd0"
      },
      "outputs": [],
      "source": [
        "as1 = ['CN(C)C(=N)NC(N)=N']\n",
        "df = pd.DataFrame(as1)"
      ]
    },
    {
      "cell_type": "code",
      "source": [
        "df[\"mol\"] = df[0].apply(Chem.MolFromSmiles)"
      ],
      "metadata": {
        "id": "RzEe5psxR9fN"
      },
      "id": "RzEe5psxR9fN",
      "execution_count": null,
      "outputs": []
    },
    {
      "cell_type": "code",
      "execution_count": null,
      "id": "655e8829",
      "metadata": {
        "colab": {
          "base_uri": "https://localhost:8080/",
          "height": 189
        },
        "id": "655e8829",
        "outputId": "08c8b003-bf0e-4c2a-8ba8-23f052f0c462"
      },
      "outputs": [
        {
          "output_type": "stream",
          "name": "stdout",
          "text": [
            "Structure:- \t\n"
          ]
        },
        {
          "output_type": "execute_result",
          "data": {
            "text/plain": [
              "<rdkit.Chem.rdchem.Mol at 0x793fe1b12260>"
            ],
            "text/html": [
              "<?xml version='1.0' encoding='iso-8859-1'?>\n",
              "<svg version='1.1' baseProfile='full'\n",
              "              xmlns='http://www.w3.org/2000/svg'\n",
              "                      xmlns:rdkit='http://www.rdkit.org/xml'\n",
              "                      xmlns:xlink='http://www.w3.org/1999/xlink'\n",
              "                  xml:space='preserve'\n",
              "width='450px' height='150px' viewBox='0 0 450 150'>\n",
              "<!-- END OF HEADER -->\n",
              "<rect style='opacity:1.0;fill:#FFFFFF;stroke:none' width='450.0' height='150.0' x='0.0' y='0.0'> </rect>\n",
              "<path class='bond-0 atom-0 atom-1' d='M 94.6,53.1 L 111.8,67.5' style='fill:none;fill-rule:evenodd;stroke:#000000;stroke-width:2.0px;stroke-linecap:butt;stroke-linejoin:miter;stroke-opacity:1' />\n",
              "<path class='bond-0 atom-0 atom-1' d='M 111.8,67.5 L 129.1,81.9' style='fill:none;fill-rule:evenodd;stroke:#0000FF;stroke-width:2.0px;stroke-linecap:butt;stroke-linejoin:miter;stroke-opacity:1' />\n",
              "<path class='bond-1 atom-1 atom-2' d='M 135.1,97.9 L 131.2,120.2' style='fill:none;fill-rule:evenodd;stroke:#0000FF;stroke-width:2.0px;stroke-linecap:butt;stroke-linejoin:miter;stroke-opacity:1' />\n",
              "<path class='bond-1 atom-1 atom-2' d='M 131.2,120.2 L 127.4,142.5' style='fill:none;fill-rule:evenodd;stroke:#000000;stroke-width:2.0px;stroke-linecap:butt;stroke-linejoin:miter;stroke-opacity:1' />\n",
              "<path class='bond-2 atom-1 atom-3' d='M 144.5,85.5 L 166.5,77.5' style='fill:none;fill-rule:evenodd;stroke:#0000FF;stroke-width:2.0px;stroke-linecap:butt;stroke-linejoin:miter;stroke-opacity:1' />\n",
              "<path class='bond-2 atom-1 atom-3' d='M 166.5,77.5 L 188.4,69.4' style='fill:none;fill-rule:evenodd;stroke:#000000;stroke-width:2.0px;stroke-linecap:butt;stroke-linejoin:miter;stroke-opacity:1' />\n",
              "<path class='bond-3 atom-3 atom-4' d='M 192.1,72.5 L 196.1,49.0' style='fill:none;fill-rule:evenodd;stroke:#000000;stroke-width:2.0px;stroke-linecap:butt;stroke-linejoin:miter;stroke-opacity:1' />\n",
              "<path class='bond-3 atom-3 atom-4' d='M 196.1,49.0 L 200.2,25.6' style='fill:none;fill-rule:evenodd;stroke:#0000FF;stroke-width:2.0px;stroke-linecap:butt;stroke-linejoin:miter;stroke-opacity:1' />\n",
              "<path class='bond-3 atom-3 atom-4' d='M 183.9,71.1 L 188.0,47.6' style='fill:none;fill-rule:evenodd;stroke:#000000;stroke-width:2.0px;stroke-linecap:butt;stroke-linejoin:miter;stroke-opacity:1' />\n",
              "<path class='bond-3 atom-3 atom-4' d='M 188.0,47.6 L 192.1,24.2' style='fill:none;fill-rule:evenodd;stroke:#0000FF;stroke-width:2.0px;stroke-linecap:butt;stroke-linejoin:miter;stroke-opacity:1' />\n",
              "<path class='bond-4 atom-3 atom-5' d='M 188.4,69.4 L 205.6,83.8' style='fill:none;fill-rule:evenodd;stroke:#000000;stroke-width:2.0px;stroke-linecap:butt;stroke-linejoin:miter;stroke-opacity:1' />\n",
              "<path class='bond-4 atom-3 atom-5' d='M 205.6,83.8 L 222.9,98.2' style='fill:none;fill-rule:evenodd;stroke:#0000FF;stroke-width:2.0px;stroke-linecap:butt;stroke-linejoin:miter;stroke-opacity:1' />\n",
              "<path class='bond-5 atom-5 atom-6' d='M 238.3,101.9 L 260.3,93.8' style='fill:none;fill-rule:evenodd;stroke:#0000FF;stroke-width:2.0px;stroke-linecap:butt;stroke-linejoin:miter;stroke-opacity:1' />\n",
              "<path class='bond-5 atom-5 atom-6' d='M 260.3,93.8 L 282.2,85.8' style='fill:none;fill-rule:evenodd;stroke:#000000;stroke-width:2.0px;stroke-linecap:butt;stroke-linejoin:miter;stroke-opacity:1' />\n",
              "<path class='bond-6 atom-6 atom-7' d='M 282.2,85.8 L 299.4,100.2' style='fill:none;fill-rule:evenodd;stroke:#000000;stroke-width:2.0px;stroke-linecap:butt;stroke-linejoin:miter;stroke-opacity:1' />\n",
              "<path class='bond-6 atom-6 atom-7' d='M 299.4,100.2 L 316.7,114.6' style='fill:none;fill-rule:evenodd;stroke:#0000FF;stroke-width:2.0px;stroke-linecap:butt;stroke-linejoin:miter;stroke-opacity:1' />\n",
              "<path class='bond-7 atom-6 atom-8' d='M 285.9,88.8 L 289.9,65.4' style='fill:none;fill-rule:evenodd;stroke:#000000;stroke-width:2.0px;stroke-linecap:butt;stroke-linejoin:miter;stroke-opacity:1' />\n",
              "<path class='bond-7 atom-6 atom-8' d='M 289.9,65.4 L 294.0,41.9' style='fill:none;fill-rule:evenodd;stroke:#0000FF;stroke-width:2.0px;stroke-linecap:butt;stroke-linejoin:miter;stroke-opacity:1' />\n",
              "<path class='bond-7 atom-6 atom-8' d='M 277.7,87.4 L 281.8,64.0' style='fill:none;fill-rule:evenodd;stroke:#000000;stroke-width:2.0px;stroke-linecap:butt;stroke-linejoin:miter;stroke-opacity:1' />\n",
              "<path class='bond-7 atom-6 atom-8' d='M 281.8,64.0 L 285.9,40.5' style='fill:none;fill-rule:evenodd;stroke:#0000FF;stroke-width:2.0px;stroke-linecap:butt;stroke-linejoin:miter;stroke-opacity:1' />\n",
              "<path d='M 187.3,69.8 L 188.4,69.4 L 189.3,70.2' style='fill:none;stroke:#000000;stroke-width:2.0px;stroke-linecap:butt;stroke-linejoin:miter;stroke-opacity:1;' />\n",
              "<path d='M 281.1,86.2 L 282.2,85.8 L 283.1,86.5' style='fill:none;stroke:#000000;stroke-width:2.0px;stroke-linecap:butt;stroke-linejoin:miter;stroke-opacity:1;' />\n",
              "<path class='atom-1' d='M 133.3 80.6\n",
              "L 138.4 88.8\n",
              "Q 139.0 89.6, 139.8 91.1\n",
              "Q 140.6 92.6, 140.6 92.7\n",
              "L 140.6 80.6\n",
              "L 142.7 80.6\n",
              "L 142.7 96.1\n",
              "L 140.6 96.1\n",
              "L 135.1 87.1\n",
              "Q 134.4 86.1, 133.8 84.8\n",
              "Q 133.1 83.6, 132.9 83.3\n",
              "L 132.9 96.1\n",
              "L 130.9 96.1\n",
              "L 130.9 80.6\n",
              "L 133.3 80.6\n",
              "' fill='#0000FF'/>\n",
              "<path class='atom-4' d='M 194.4 7.5\n",
              "L 199.5 15.7\n",
              "Q 200.0 16.6, 200.8 18.0\n",
              "Q 201.6 19.5, 201.7 19.6\n",
              "L 201.7 7.5\n",
              "L 203.8 7.5\n",
              "L 203.8 23.1\n",
              "L 201.6 23.1\n",
              "L 196.1 14.1\n",
              "Q 195.5 13.0, 194.8 11.8\n",
              "Q 194.2 10.6, 194.0 10.2\n",
              "L 194.0 23.1\n",
              "L 191.9 23.1\n",
              "L 191.9 7.5\n",
              "L 194.4 7.5\n",
              "' fill='#0000FF'/>\n",
              "<path class='atom-4' d='M 206.8 7.5\n",
              "L 208.9 7.5\n",
              "L 208.9 14.1\n",
              "L 216.8 14.1\n",
              "L 216.8 7.5\n",
              "L 219.0 7.5\n",
              "L 219.0 23.1\n",
              "L 216.8 23.1\n",
              "L 216.8 15.9\n",
              "L 208.9 15.9\n",
              "L 208.9 23.1\n",
              "L 206.8 23.1\n",
              "L 206.8 7.5\n",
              "' fill='#0000FF'/>\n",
              "<path class='atom-5' d='M 227.1 96.9\n",
              "L 232.3 105.2\n",
              "Q 232.8 106.0, 233.6 107.4\n",
              "Q 234.4 108.9, 234.4 109.0\n",
              "L 234.4 96.9\n",
              "L 236.5 96.9\n",
              "L 236.5 112.5\n",
              "L 234.4 112.5\n",
              "L 228.9 103.5\n",
              "Q 228.2 102.4, 227.6 101.2\n",
              "Q 226.9 100.0, 226.7 99.6\n",
              "L 226.7 112.5\n",
              "L 224.7 112.5\n",
              "L 224.7 96.9\n",
              "L 227.1 96.9\n",
              "' fill='#0000FF'/>\n",
              "<path class='atom-5' d='M 224.5 114.0\n",
              "L 226.6 114.0\n",
              "L 226.6 120.7\n",
              "L 234.6 120.7\n",
              "L 234.6 114.0\n",
              "L 236.7 114.0\n",
              "L 236.7 129.6\n",
              "L 234.6 129.6\n",
              "L 234.6 122.4\n",
              "L 226.6 122.4\n",
              "L 226.6 129.6\n",
              "L 224.5 129.6\n",
              "L 224.5 114.0\n",
              "' fill='#0000FF'/>\n",
              "<path class='atom-7' d='M 320.9 113.3\n",
              "L 326.1 121.5\n",
              "Q 326.6 122.3, 327.4 123.8\n",
              "Q 328.2 125.3, 328.2 125.3\n",
              "L 328.2 113.3\n",
              "L 330.3 113.3\n",
              "L 330.3 128.8\n",
              "L 328.2 128.8\n",
              "L 322.7 119.8\n",
              "Q 322.0 118.8, 321.4 117.5\n",
              "Q 320.7 116.3, 320.5 116.0\n",
              "L 320.5 128.8\n",
              "L 318.5 128.8\n",
              "L 318.5 113.3\n",
              "L 320.9 113.3\n",
              "' fill='#0000FF'/>\n",
              "<path class='atom-7' d='M 333.3 113.3\n",
              "L 335.4 113.3\n",
              "L 335.4 119.9\n",
              "L 343.3 119.9\n",
              "L 343.3 113.3\n",
              "L 345.5 113.3\n",
              "L 345.5 128.8\n",
              "L 343.3 128.8\n",
              "L 343.3 121.6\n",
              "L 335.4 121.6\n",
              "L 335.4 128.8\n",
              "L 333.3 128.8\n",
              "L 333.3 113.3\n",
              "' fill='#0000FF'/>\n",
              "<path class='atom-7' d='M 348.5 128.3\n",
              "Q 348.9 127.3, 349.8 126.8\n",
              "Q 350.7 126.2, 351.9 126.2\n",
              "Q 353.5 126.2, 354.3 127.1\n",
              "Q 355.2 127.9, 355.2 129.4\n",
              "Q 355.2 130.9, 354.1 132.3\n",
              "Q 353.0 133.8, 350.6 135.4\n",
              "L 355.4 135.4\n",
              "L 355.4 136.6\n",
              "L 348.5 136.6\n",
              "L 348.5 135.6\n",
              "Q 350.4 134.3, 351.5 133.3\n",
              "Q 352.7 132.2, 353.2 131.3\n",
              "Q 353.8 130.4, 353.8 129.5\n",
              "Q 353.8 128.5, 353.3 127.9\n",
              "Q 352.8 127.4, 351.9 127.4\n",
              "Q 351.1 127.4, 350.5 127.7\n",
              "Q 350.0 128.0, 349.6 128.8\n",
              "L 348.5 128.3\n",
              "' fill='#0000FF'/>\n",
              "<path class='atom-8' d='M 288.2 23.8\n",
              "L 293.3 32.1\n",
              "Q 293.8 32.9, 294.6 34.4\n",
              "Q 295.4 35.9, 295.5 35.9\n",
              "L 295.5 23.8\n",
              "L 297.6 23.8\n",
              "L 297.6 39.4\n",
              "L 295.4 39.4\n",
              "L 289.9 30.4\n",
              "Q 289.3 29.3, 288.6 28.1\n",
              "Q 288.0 26.9, 287.8 26.6\n",
              "L 287.8 39.4\n",
              "L 285.7 39.4\n",
              "L 285.7 23.8\n",
              "L 288.2 23.8\n",
              "' fill='#0000FF'/>\n",
              "<path class='atom-8' d='M 300.6 23.8\n",
              "L 302.7 23.8\n",
              "L 302.7 30.5\n",
              "L 310.6 30.5\n",
              "L 310.6 23.8\n",
              "L 312.8 23.8\n",
              "L 312.8 39.4\n",
              "L 310.6 39.4\n",
              "L 310.6 32.2\n",
              "L 302.7 32.2\n",
              "L 302.7 39.4\n",
              "L 300.6 39.4\n",
              "L 300.6 23.8\n",
              "' fill='#0000FF'/>\n",
              "</svg>\n"
            ],
            "image/svg+xml": "<?xml version='1.0' encoding='iso-8859-1'?>\n<svg version='1.1' baseProfile='full'\n              xmlns='http://www.w3.org/2000/svg'\n                      xmlns:rdkit='http://www.rdkit.org/xml'\n                      xmlns:xlink='http://www.w3.org/1999/xlink'\n                  xml:space='preserve'\nwidth='450px' height='150px' viewBox='0 0 450 150'>\n<!-- END OF HEADER -->\n<rect style='opacity:1.0;fill:#FFFFFF;stroke:none' width='450.0' height='150.0' x='0.0' y='0.0'> </rect>\n<path class='bond-0 atom-0 atom-1' d='M 94.6,53.1 L 111.8,67.5' style='fill:none;fill-rule:evenodd;stroke:#000000;stroke-width:2.0px;stroke-linecap:butt;stroke-linejoin:miter;stroke-opacity:1' />\n<path class='bond-0 atom-0 atom-1' d='M 111.8,67.5 L 129.1,81.9' style='fill:none;fill-rule:evenodd;stroke:#0000FF;stroke-width:2.0px;stroke-linecap:butt;stroke-linejoin:miter;stroke-opacity:1' />\n<path class='bond-1 atom-1 atom-2' d='M 135.1,97.9 L 131.2,120.2' style='fill:none;fill-rule:evenodd;stroke:#0000FF;stroke-width:2.0px;stroke-linecap:butt;stroke-linejoin:miter;stroke-opacity:1' />\n<path class='bond-1 atom-1 atom-2' d='M 131.2,120.2 L 127.4,142.5' style='fill:none;fill-rule:evenodd;stroke:#000000;stroke-width:2.0px;stroke-linecap:butt;stroke-linejoin:miter;stroke-opacity:1' />\n<path class='bond-2 atom-1 atom-3' d='M 144.5,85.5 L 166.5,77.5' style='fill:none;fill-rule:evenodd;stroke:#0000FF;stroke-width:2.0px;stroke-linecap:butt;stroke-linejoin:miter;stroke-opacity:1' />\n<path class='bond-2 atom-1 atom-3' d='M 166.5,77.5 L 188.4,69.4' style='fill:none;fill-rule:evenodd;stroke:#000000;stroke-width:2.0px;stroke-linecap:butt;stroke-linejoin:miter;stroke-opacity:1' />\n<path class='bond-3 atom-3 atom-4' d='M 192.1,72.5 L 196.1,49.0' style='fill:none;fill-rule:evenodd;stroke:#000000;stroke-width:2.0px;stroke-linecap:butt;stroke-linejoin:miter;stroke-opacity:1' />\n<path class='bond-3 atom-3 atom-4' d='M 196.1,49.0 L 200.2,25.6' style='fill:none;fill-rule:evenodd;stroke:#0000FF;stroke-width:2.0px;stroke-linecap:butt;stroke-linejoin:miter;stroke-opacity:1' />\n<path class='bond-3 atom-3 atom-4' d='M 183.9,71.1 L 188.0,47.6' style='fill:none;fill-rule:evenodd;stroke:#000000;stroke-width:2.0px;stroke-linecap:butt;stroke-linejoin:miter;stroke-opacity:1' />\n<path class='bond-3 atom-3 atom-4' d='M 188.0,47.6 L 192.1,24.2' style='fill:none;fill-rule:evenodd;stroke:#0000FF;stroke-width:2.0px;stroke-linecap:butt;stroke-linejoin:miter;stroke-opacity:1' />\n<path class='bond-4 atom-3 atom-5' d='M 188.4,69.4 L 205.6,83.8' style='fill:none;fill-rule:evenodd;stroke:#000000;stroke-width:2.0px;stroke-linecap:butt;stroke-linejoin:miter;stroke-opacity:1' />\n<path class='bond-4 atom-3 atom-5' d='M 205.6,83.8 L 222.9,98.2' style='fill:none;fill-rule:evenodd;stroke:#0000FF;stroke-width:2.0px;stroke-linecap:butt;stroke-linejoin:miter;stroke-opacity:1' />\n<path class='bond-5 atom-5 atom-6' d='M 238.3,101.9 L 260.3,93.8' style='fill:none;fill-rule:evenodd;stroke:#0000FF;stroke-width:2.0px;stroke-linecap:butt;stroke-linejoin:miter;stroke-opacity:1' />\n<path class='bond-5 atom-5 atom-6' d='M 260.3,93.8 L 282.2,85.8' style='fill:none;fill-rule:evenodd;stroke:#000000;stroke-width:2.0px;stroke-linecap:butt;stroke-linejoin:miter;stroke-opacity:1' />\n<path class='bond-6 atom-6 atom-7' d='M 282.2,85.8 L 299.4,100.2' style='fill:none;fill-rule:evenodd;stroke:#000000;stroke-width:2.0px;stroke-linecap:butt;stroke-linejoin:miter;stroke-opacity:1' />\n<path class='bond-6 atom-6 atom-7' d='M 299.4,100.2 L 316.7,114.6' style='fill:none;fill-rule:evenodd;stroke:#0000FF;stroke-width:2.0px;stroke-linecap:butt;stroke-linejoin:miter;stroke-opacity:1' />\n<path class='bond-7 atom-6 atom-8' d='M 285.9,88.8 L 289.9,65.4' style='fill:none;fill-rule:evenodd;stroke:#000000;stroke-width:2.0px;stroke-linecap:butt;stroke-linejoin:miter;stroke-opacity:1' />\n<path class='bond-7 atom-6 atom-8' d='M 289.9,65.4 L 294.0,41.9' style='fill:none;fill-rule:evenodd;stroke:#0000FF;stroke-width:2.0px;stroke-linecap:butt;stroke-linejoin:miter;stroke-opacity:1' />\n<path class='bond-7 atom-6 atom-8' d='M 277.7,87.4 L 281.8,64.0' style='fill:none;fill-rule:evenodd;stroke:#000000;stroke-width:2.0px;stroke-linecap:butt;stroke-linejoin:miter;stroke-opacity:1' />\n<path class='bond-7 atom-6 atom-8' d='M 281.8,64.0 L 285.9,40.5' style='fill:none;fill-rule:evenodd;stroke:#0000FF;stroke-width:2.0px;stroke-linecap:butt;stroke-linejoin:miter;stroke-opacity:1' />\n<path d='M 187.3,69.8 L 188.4,69.4 L 189.3,70.2' style='fill:none;stroke:#000000;stroke-width:2.0px;stroke-linecap:butt;stroke-linejoin:miter;stroke-opacity:1;' />\n<path d='M 281.1,86.2 L 282.2,85.8 L 283.1,86.5' style='fill:none;stroke:#000000;stroke-width:2.0px;stroke-linecap:butt;stroke-linejoin:miter;stroke-opacity:1;' />\n<path class='atom-1' d='M 133.3 80.6\nL 138.4 88.8\nQ 139.0 89.6, 139.8 91.1\nQ 140.6 92.6, 140.6 92.7\nL 140.6 80.6\nL 142.7 80.6\nL 142.7 96.1\nL 140.6 96.1\nL 135.1 87.1\nQ 134.4 86.1, 133.8 84.8\nQ 133.1 83.6, 132.9 83.3\nL 132.9 96.1\nL 130.9 96.1\nL 130.9 80.6\nL 133.3 80.6\n' fill='#0000FF'/>\n<path class='atom-4' d='M 194.4 7.5\nL 199.5 15.7\nQ 200.0 16.6, 200.8 18.0\nQ 201.6 19.5, 201.7 19.6\nL 201.7 7.5\nL 203.8 7.5\nL 203.8 23.1\nL 201.6 23.1\nL 196.1 14.1\nQ 195.5 13.0, 194.8 11.8\nQ 194.2 10.6, 194.0 10.2\nL 194.0 23.1\nL 191.9 23.1\nL 191.9 7.5\nL 194.4 7.5\n' fill='#0000FF'/>\n<path class='atom-4' d='M 206.8 7.5\nL 208.9 7.5\nL 208.9 14.1\nL 216.8 14.1\nL 216.8 7.5\nL 219.0 7.5\nL 219.0 23.1\nL 216.8 23.1\nL 216.8 15.9\nL 208.9 15.9\nL 208.9 23.1\nL 206.8 23.1\nL 206.8 7.5\n' fill='#0000FF'/>\n<path class='atom-5' d='M 227.1 96.9\nL 232.3 105.2\nQ 232.8 106.0, 233.6 107.4\nQ 234.4 108.9, 234.4 109.0\nL 234.4 96.9\nL 236.5 96.9\nL 236.5 112.5\nL 234.4 112.5\nL 228.9 103.5\nQ 228.2 102.4, 227.6 101.2\nQ 226.9 100.0, 226.7 99.6\nL 226.7 112.5\nL 224.7 112.5\nL 224.7 96.9\nL 227.1 96.9\n' fill='#0000FF'/>\n<path class='atom-5' d='M 224.5 114.0\nL 226.6 114.0\nL 226.6 120.7\nL 234.6 120.7\nL 234.6 114.0\nL 236.7 114.0\nL 236.7 129.6\nL 234.6 129.6\nL 234.6 122.4\nL 226.6 122.4\nL 226.6 129.6\nL 224.5 129.6\nL 224.5 114.0\n' fill='#0000FF'/>\n<path class='atom-7' d='M 320.9 113.3\nL 326.1 121.5\nQ 326.6 122.3, 327.4 123.8\nQ 328.2 125.3, 328.2 125.3\nL 328.2 113.3\nL 330.3 113.3\nL 330.3 128.8\nL 328.2 128.8\nL 322.7 119.8\nQ 322.0 118.8, 321.4 117.5\nQ 320.7 116.3, 320.5 116.0\nL 320.5 128.8\nL 318.5 128.8\nL 318.5 113.3\nL 320.9 113.3\n' fill='#0000FF'/>\n<path class='atom-7' d='M 333.3 113.3\nL 335.4 113.3\nL 335.4 119.9\nL 343.3 119.9\nL 343.3 113.3\nL 345.5 113.3\nL 345.5 128.8\nL 343.3 128.8\nL 343.3 121.6\nL 335.4 121.6\nL 335.4 128.8\nL 333.3 128.8\nL 333.3 113.3\n' fill='#0000FF'/>\n<path class='atom-7' d='M 348.5 128.3\nQ 348.9 127.3, 349.8 126.8\nQ 350.7 126.2, 351.9 126.2\nQ 353.5 126.2, 354.3 127.1\nQ 355.2 127.9, 355.2 129.4\nQ 355.2 130.9, 354.1 132.3\nQ 353.0 133.8, 350.6 135.4\nL 355.4 135.4\nL 355.4 136.6\nL 348.5 136.6\nL 348.5 135.6\nQ 350.4 134.3, 351.5 133.3\nQ 352.7 132.2, 353.2 131.3\nQ 353.8 130.4, 353.8 129.5\nQ 353.8 128.5, 353.3 127.9\nQ 352.8 127.4, 351.9 127.4\nQ 351.1 127.4, 350.5 127.7\nQ 350.0 128.0, 349.6 128.8\nL 348.5 128.3\n' fill='#0000FF'/>\n<path class='atom-8' d='M 288.2 23.8\nL 293.3 32.1\nQ 293.8 32.9, 294.6 34.4\nQ 295.4 35.9, 295.5 35.9\nL 295.5 23.8\nL 297.6 23.8\nL 297.6 39.4\nL 295.4 39.4\nL 289.9 30.4\nQ 289.3 29.3, 288.6 28.1\nQ 288.0 26.9, 287.8 26.6\nL 287.8 39.4\nL 285.7 39.4\nL 285.7 23.8\nL 288.2 23.8\n' fill='#0000FF'/>\n<path class='atom-8' d='M 300.6 23.8\nL 302.7 23.8\nL 302.7 30.5\nL 310.6 30.5\nL 310.6 23.8\nL 312.8 23.8\nL 312.8 39.4\nL 310.6 39.4\nL 310.6 32.2\nL 302.7 32.2\nL 302.7 39.4\nL 300.6 39.4\nL 300.6 23.8\n' fill='#0000FF'/>\n</svg>\n",
            "image/png": "[encoded data removed]"
          },
          "metadata": {},
          "execution_count": 19
        }
      ],
      "source": [
        "from rdkit.Chem.Draw import IPythonConsole\n",
        "IPythonConsole.ipython_useSVG=True\n",
        "mol = Chem.MolFromSmiles(as1[0])\n",
        "\n",
        "print('Structure:- \\t')\n",
        "mol"
      ]
    },
    {
      "cell_type": "code",
      "source": [
        "import pubchempy as pcp\n",
        "comp = pcp.get_compounds(as1[0], 'smiles')[0]\n",
        "name = comp.iupac_name\n",
        "print('The IUPAC Name for the compound is:- \\t', name)\n",
        "#df[\"IUPAC Name\"] = df[\"name\"]"
      ],
      "metadata": {
        "colab": {
          "base_uri": "https://localhost:8080/"
        },
        "id": "dehH5hblenGR",
        "outputId": "09c9f7ff-711d-46e8-ead9-1472ffc8b709"
      },
      "id": "dehH5hblenGR",
      "execution_count": null,
      "outputs": [
        {
          "output_type": "stream",
          "name": "stdout",
          "text": [
            "The IUPAC Name for the compound is:- \t 3-(diaminomethylidene)-1,1-dimethylguanidine\n"
          ]
        }
      ]
    },
    {
      "cell_type": "code",
      "execution_count": null,
      "id": "df9ea964",
      "metadata": {
        "id": "df9ea964"
      },
      "outputs": [],
      "source": [
        "df[\"MW\"] = df[\"mol\"].apply(Descriptors.MolWt) # molecular weight\n",
        "df[\"LogP\"] = df[\"mol\"].apply(Descriptors.MolLogP) # octanol-water partition coefficient\n",
        "df[\"TPSA\"] = df[\"mol\"].apply(Descriptors.TPSA) # topological polar surface area\n",
        "df[\"HBA\"] = df[\"mol\"].apply(Descriptors.NumHAcceptors) # number of hydrogen bond acceptors\n",
        "df[\"HBD\"] = df[\"mol\"].apply(Descriptors.NumHDonors) # number of hydrogen bond donors\n"
      ]
    },
    {
      "cell_type": "code",
      "execution_count": null,
      "id": "27589de3",
      "metadata": {
        "id": "27589de3",
        "outputId": "e3d301aa-6d26-49cd-a947-9dc9a75b5a4f",
        "colab": {
          "base_uri": "https://localhost:8080/",
          "height": 89
        }
      },
      "outputs": [
        {
          "output_type": "execute_result",
          "data": {
            "text/plain": [
              "                   0                                               mol  \\\n",
              "0  CN(C)C(=N)NC(N)=N  <rdkit.Chem.rdchem.Mol object at 0x793fe1b11fc0>   \n",
              "\n",
              "        MW     LogP   TPSA  HBA  HBD  \n",
              "0  129.167 -1.03416  88.99    2    4  "
            ],
            "text/html": [
              "\n",
              "  <div id=\"df-25320b32-92f7-4086-9ea4-b041eb52eddc\" class=\"colab-df-container\">\n",
              "    <div>\n",
              "<style scoped>\n",
              "    .dataframe tbody tr th:only-of-type {\n",
              "        vertical-align: middle;\n",
              "    }\n",
              "\n",
              "    .dataframe tbody tr th {\n",
              "        vertical-align: top;\n",
              "    }\n",
              "\n",
              "    .dataframe thead th {\n",
              "        text-align: right;\n",
              "    }\n",
              "</style>\n",
              "<table border=\"1\" class=\"dataframe\">\n",
              "  <thead>\n",
              "    <tr style=\"text-align: right;\">\n",
              "      <th></th>\n",
              "      <th>0</th>\n",
              "      <th>mol</th>\n",
              "      <th>MW</th>\n",
              "      <th>LogP</th>\n",
              "      <th>TPSA</th>\n",
              "      <th>HBA</th>\n",
              "      <th>HBD</th>\n",
              "    </tr>\n",
              "  </thead>\n",
              "  <tbody>\n",
              "    <tr>\n",
              "      <th>0</th>\n",
              "      <td>CN(C)C(=N)NC(N)=N</td>\n",
              "      <td>&lt;rdkit.Chem.rdchem.Mol object at 0x793fe1b11fc0&gt;</td>\n",
              "      <td>129.167</td>\n",
              "      <td>-1.03416</td>\n",
              "      <td>88.99</td>\n",
              "      <td>2</td>\n",
              "      <td>4</td>\n",
              "    </tr>\n",
              "  </tbody>\n",
              "</table>\n",
              "</div>\n",
              "    <div class=\"colab-df-buttons\">\n",
              "\n",
              "  <div class=\"colab-df-container\">\n",
              "    <button class=\"colab-df-convert\" onclick=\"convertToInteractive('df-25320b32-92f7-4086-9ea4-b041eb52eddc')\"\n",
              "            title=\"Convert this dataframe to an interactive table.\"\n",
              "            style=\"display:none;\">\n",
              "\n",
              "  <svg xmlns=\"http://www.w3.org/2000/svg\" height=\"24px\" viewBox=\"0 -960 960 960\">\n",
              "    <path d=\"M120-120v-720h720v720H120Zm60-500h600v-160H180v160Zm220 220h160v-160H400v160Zm0 220h160v-160H400v160ZM180-400h160v-160H180v160Zm440 0h160v-160H620v160ZM180-180h160v-160H180v160Zm440 0h160v-160H620v160Z\"/>\n",
              "  </svg>\n",
              "    </button>\n",
              "\n",
              "  <style>\n",
              "    .colab-df-container {\n",
              "      display:flex;\n",
              "      gap: 12px;\n",
              "    }\n",
              "\n",
              "    .colab-df-convert {\n",
              "      background-color: #E8F0FE;\n",
              "      border: none;\n",
              "      border-radius: 50%;\n",
              "      cursor: pointer;\n",
              "      display: none;\n",
              "      fill: #1967D2;\n",
              "      height: 32px;\n",
              "      padding: 0 0 0 0;\n",
              "      width: 32px;\n",
              "    }\n",
              "\n",
              "    .colab-df-convert:hover {\n",
              "      background-color: #E2EBFA;\n",
              "      box-shadow: 0px 1px 2px rgba(60, 64, 67, 0.3), 0px 1px 3px 1px rgba(60, 64, 67, 0.15);\n",
              "      fill: #174EA6;\n",
              "    }\n",
              "\n",
              "    .colab-df-buttons div {\n",
              "      margin-bottom: 4px;\n",
              "    }\n",
              "\n",
              "    [theme=dark] .colab-df-convert {\n",
              "      background-color: #3B4455;\n",
              "      fill: #D2E3FC;\n",
              "    }\n",
              "\n",
              "    [theme=dark] .colab-df-convert:hover {\n",
              "      background-color: #434B5C;\n",
              "      box-shadow: 0px 1px 3px 1px rgba(0, 0, 0, 0.15);\n",
              "      filter: drop-shadow(0px 1px 2px rgba(0, 0, 0, 0.3));\n",
              "      fill: #FFFFFF;\n",
              "    }\n",
              "  </style>\n",
              "\n",
              "    <script>\n",
              "      const buttonEl =\n",
              "        document.querySelector('#df-25320b32-92f7-4086-9ea4-b041eb52eddc button.colab-df-convert');\n",
              "      buttonEl.style.display =\n",
              "        google.colab.kernel.accessAllowed ? 'block' : 'none';\n",
              "\n",
              "      async function convertToInteractive(key) {\n",
              "        const element = document.querySelector('#df-25320b32-92f7-4086-9ea4-b041eb52eddc');\n",
              "        const dataTable =\n",
              "          await google.colab.kernel.invokeFunction('convertToInteractive',\n",
              "                                                    [key], {});\n",
              "        if (!dataTable) return;\n",
              "\n",
              "        const docLinkHtml = 'Like what you see? Visit the ' +\n",
              "          '<a target=\"_blank\" href=https://colab.research.google.com/notebooks/data_table.ipynb>data table notebook</a>'\n",
              "          + ' to learn more about interactive tables.';\n",
              "        element.innerHTML = '';\n",
              "        dataTable['output_type'] = 'display_data';\n",
              "        await google.colab.output.renderOutput(dataTable, element);\n",
              "        const docLink = document.createElement('div');\n",
              "        docLink.innerHTML = docLinkHtml;\n",
              "        element.appendChild(docLink);\n",
              "      }\n",
              "    </script>\n",
              "  </div>\n",
              "\n",
              "\n",
              "  <div id=\"id_04f8b059-9307-4a2f-9a14-c1c338f273f4\">\n",
              "    <style>\n",
              "      .colab-df-generate {\n",
              "        background-color: #E8F0FE;\n",
              "        border: none;\n",
              "        border-radius: 50%;\n",
              "        cursor: pointer;\n",
              "        display: none;\n",
              "        fill: #1967D2;\n",
              "        height: 32px;\n",
              "        padding: 0 0 0 0;\n",
              "        width: 32px;\n",
              "      }\n",
              "\n",
              "      .colab-df-generate:hover {\n",
              "        background-color: #E2EBFA;\n",
              "        box-shadow: 0px 1px 2px rgba(60, 64, 67, 0.3), 0px 1px 3px 1px rgba(60, 64, 67, 0.15);\n",
              "        fill: #174EA6;\n",
              "      }\n",
              "\n",
              "      [theme=dark] .colab-df-generate {\n",
              "        background-color: #3B4455;\n",
              "        fill: #D2E3FC;\n",
              "      }\n",
              "\n",
              "      [theme=dark] .colab-df-generate:hover {\n",
              "        background-color: #434B5C;\n",
              "        box-shadow: 0px 1px 3px 1px rgba(0, 0, 0, 0.15);\n",
              "        filter: drop-shadow(0px 1px 2px rgba(0, 0, 0, 0.3));\n",
              "        fill: #FFFFFF;\n",
              "      }\n",
              "    </style>\n",
              "    <button class=\"colab-df-generate\" onclick=\"generateWithVariable('df')\"\n",
              "            title=\"Generate code using this dataframe.\"\n",
              "            style=\"display:none;\">\n",
              "\n",
              "  <svg xmlns=\"http://www.w3.org/2000/svg\" height=\"24px\"viewBox=\"0 0 24 24\"\n",
              "       width=\"24px\">\n",
              "    <path d=\"M7,19H8.4L18.45,9,17,7.55,7,17.6ZM5,21V16.75L18.45,3.32a2,2,0,0,1,2.83,0l1.4,1.43a1.91,1.91,0,0,1,.58,1.4,1.91,1.91,0,0,1-.58,1.4L9.25,21ZM18.45,9,17,7.55Zm-12,3A5.31,5.31,0,0,0,4.9,8.1,5.31,5.31,0,0,0,1,6.5,5.31,5.31,0,0,0,4.9,4.9,5.31,5.31,0,0,0,6.5,1,5.31,5.31,0,0,0,8.1,4.9,5.31,5.31,0,0,0,12,6.5,5.46,5.46,0,0,0,6.5,12Z\"/>\n",
              "  </svg>\n",
              "    </button>\n",
              "    <script>\n",
              "      (() => {\n",
              "      const buttonEl =\n",
              "        document.querySelector('#id_04f8b059-9307-4a2f-9a14-c1c338f273f4 button.colab-df-generate');\n",
              "      buttonEl.style.display =\n",
              "        google.colab.kernel.accessAllowed ? 'block' : 'none';\n",
              "\n",
              "      buttonEl.onclick = () => {\n",
              "        google.colab.notebook.generateWithVariable('df');\n",
              "      }\n",
              "      })();\n",
              "    </script>\n",
              "  </div>\n",
              "\n",
              "    </div>\n",
              "  </div>\n"
            ]
          },
          "metadata": {},
          "execution_count": 22
        }
      ],
      "source": [
        "df"
      ]
    },
    {
      "cell_type": "markdown",
      "source": [],
      "metadata": {
        "id": "xCY8JMZ6gb4b"
      },
      "id": "xCY8JMZ6gb4b"
    }
  ],
  "metadata": {
    "kernelspec": {
      "display_name": "Python 3 (ipykernel)",
      "language": "python",
      "name": "python3"
    },
    "language_info": {
      "codemirror_mode": {
        "name": "ipython",
        "version": 3
      },
      "file_extension": ".py",
      "mimetype": "text/x-python",
      "name": "python",
      "nbconvert_exporter": "python",
      "pygments_lexer": "ipython3",
      "version": "3.11.5"
    },
    "colab": {
      "provenance": []
    }
  },
  "nbformat": 4,
  "nbformat_minor": 5
}